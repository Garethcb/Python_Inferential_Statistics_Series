{
 "cells": [
  {
   "cell_type": "code",
   "execution_count": 48,
   "metadata": {},
   "outputs": [],
   "source": [
    "import numpy as np \n",
    "import seaborn as sns\n",
    "import pandas as pd\n"
   ]
  },
  {
   "cell_type": "markdown",
   "metadata": {},
   "source": [
    "# Nonparametric Test\n",
    "\n",
    "Nonparametric tests are methods of statistical analysis that do not require a distribution to meet the required assumptions to be analyzed (especially if the data is not normally distributed). \n",
    "\n",
    "Nonparametric tests serve as an alternative to parametric tests such as T-test or ANOVA that can be employed only if the underlying data satisfies certain criteria and assumptions.\n",
    "\n",
    "\n",
    "Called distribution-free tests because they are based on fewer assumptions\n",
    "\n",
    "1. Mann-Whitney U Test (Wilcoxon Rank-Sum test): Indepdentent Samples T-Test  \n",
    "\n",
    "    - Use: To compare a continuous outcome in two independent samples.\n",
    "\n",
    "    - Null Hypothesis: H0: Two populations are equal\n",
    "\n",
    "\n",
    "\n",
    "2. Wilcoxon-Signed Rank Test: Paired Sample T-Test\n",
    "\n",
    "    - When: normality, homogeneity of variances, or outliers assumptions for One-Way ANOVA are not met, you may want to run the nonparametric Kruskal-Wallis test instead.  \n",
    "    \n",
    "    - Use: To compare a continuous outcome in two matched or paired samples.  \n",
    "    \n",
    "    - Null Hypothesis: H0: Median difference is zero  \n",
    "    \n",
    "    - Test Statistic: The test statistic is W, defined as the smaller of W+ and W- which are the sums of the positive and negative ranks of the difference scores, respectively.  \n",
    "\n",
    "\n",
    "3. Kruskal-Wallis Test: One-Way Anova\n",
    "\n",
    "    - Use: To compare a continuous outcome in more than two independent samples.\n",
    "\n",
    "    - Null Hypothesis: H0: k population medians are equal\n",
    "\n",
    "\n"
   ]
  },
  {
   "cell_type": "markdown",
   "metadata": {},
   "source": [
    "# Chi-squared\n",
    "\n",
    "The Chi-Square Test of Independence determines whether there is an association between categorical variables (i.e., whether the variables are independent or related).\n",
    "\n",
    "1. Can only compare categorical variables.   \n",
    "\n",
    "  \n",
    "2. Cannot make comparisons between continuous variables or between categorical and continuous variables.   \n",
    "\n",
    "  \n",
    "3. Only assesses associations between categorical variables, and can not provide any inferences about causation.  \n",
    "\n",
    "  \n",
    "4. If your categorical variables represent \"pre-test\" and \"post-test\" observations, then the chi-square test of independence is not appropriate.\n"
   ]
  },
  {
   "cell_type": "markdown",
   "metadata": {},
   "source": [
    "# Hypothesis\n",
    "\n",
    "$$H_0: \\text{Variable 1 is independent of Variable 2}$$\n",
    "$$H_0: \\text{Variable 1 is not independent of Variable 2}$$\n",
    "\n",
    "\n",
    "## Test Statistic\n",
    "\n",
    "$$\\chi^{2} = \\sum_{i=1}{R}\\sum_{i=1}{C}\\frac{()_{ij} - e_{ij})^2}{e_{ij}}$$\n",
    "\n",
    "where:\n",
    "\n",
    "$O_{ij}$ is the observed cell count in the $i^{th}$ row and $j^{th}$ column  \n",
    "  \n",
    "  \n",
    "$e_{ij}$ is the expected cell count in the $i^{th}$ row and $j^{th}$ column  \n",
    "  \n",
    "$$e_{ij} = \\frac{\\text{row i total * col j total}}{\\text{grand total}}$$\n",
    "\n",
    "  \n",
    "  \n",
    "The calculated Χ2 value is then compared to the critical value from the Χ2 distribution table with degrees of freedom df = (R - 1)(C - 1) and chosen confidence level. If the calculated Χ2 value > critical Χ2 value, then we reject the null hypothesis.\n",
    "\n",
    "\n",
    "### Efficient sample size Assumption\n",
    "1. Expected frequencies for each cell are at least 1.  \n",
    "  \n",
    "  \n",
    "2. Expected frequencies should be at least 5 for the majority (80%) of the cells."
   ]
  },
  {
   "cell_type": "markdown",
   "metadata": {},
   "source": [
    "# Example"
   ]
  },
  {
   "cell_type": "code",
   "execution_count": 30,
   "metadata": {},
   "outputs": [
    {
     "data": {
      "text/html": [
       "<div>\n",
       "<style scoped>\n",
       "    .dataframe tbody tr th:only-of-type {\n",
       "        vertical-align: middle;\n",
       "    }\n",
       "\n",
       "    .dataframe tbody tr th {\n",
       "        vertical-align: top;\n",
       "    }\n",
       "\n",
       "    .dataframe thead th {\n",
       "        text-align: right;\n",
       "    }\n",
       "</style>\n",
       "<table border=\"1\" class=\"dataframe\">\n",
       "  <thead>\n",
       "    <tr style=\"text-align: right;\">\n",
       "      <th></th>\n",
       "      <th>survived</th>\n",
       "      <th>pclass</th>\n",
       "      <th>sex</th>\n",
       "      <th>age</th>\n",
       "      <th>sibsp</th>\n",
       "      <th>parch</th>\n",
       "      <th>fare</th>\n",
       "      <th>embarked</th>\n",
       "      <th>class</th>\n",
       "      <th>who</th>\n",
       "      <th>adult_male</th>\n",
       "      <th>deck</th>\n",
       "      <th>embark_town</th>\n",
       "      <th>alive</th>\n",
       "      <th>alone</th>\n",
       "    </tr>\n",
       "  </thead>\n",
       "  <tbody>\n",
       "    <tr>\n",
       "      <th>0</th>\n",
       "      <td>0</td>\n",
       "      <td>3</td>\n",
       "      <td>male</td>\n",
       "      <td>22.0</td>\n",
       "      <td>1</td>\n",
       "      <td>0</td>\n",
       "      <td>7.2500</td>\n",
       "      <td>S</td>\n",
       "      <td>Third</td>\n",
       "      <td>man</td>\n",
       "      <td>True</td>\n",
       "      <td>NaN</td>\n",
       "      <td>Southampton</td>\n",
       "      <td>no</td>\n",
       "      <td>False</td>\n",
       "    </tr>\n",
       "    <tr>\n",
       "      <th>1</th>\n",
       "      <td>1</td>\n",
       "      <td>1</td>\n",
       "      <td>female</td>\n",
       "      <td>38.0</td>\n",
       "      <td>1</td>\n",
       "      <td>0</td>\n",
       "      <td>71.2833</td>\n",
       "      <td>C</td>\n",
       "      <td>First</td>\n",
       "      <td>woman</td>\n",
       "      <td>False</td>\n",
       "      <td>C</td>\n",
       "      <td>Cherbourg</td>\n",
       "      <td>yes</td>\n",
       "      <td>False</td>\n",
       "    </tr>\n",
       "    <tr>\n",
       "      <th>2</th>\n",
       "      <td>1</td>\n",
       "      <td>3</td>\n",
       "      <td>female</td>\n",
       "      <td>26.0</td>\n",
       "      <td>0</td>\n",
       "      <td>0</td>\n",
       "      <td>7.9250</td>\n",
       "      <td>S</td>\n",
       "      <td>Third</td>\n",
       "      <td>woman</td>\n",
       "      <td>False</td>\n",
       "      <td>NaN</td>\n",
       "      <td>Southampton</td>\n",
       "      <td>yes</td>\n",
       "      <td>True</td>\n",
       "    </tr>\n",
       "  </tbody>\n",
       "</table>\n",
       "</div>"
      ],
      "text/plain": [
       "   survived  pclass     sex   age  sibsp  parch     fare embarked  class  \\\n",
       "0         0       3    male  22.0      1      0   7.2500        S  Third   \n",
       "1         1       1  female  38.0      1      0  71.2833        C  First   \n",
       "2         1       3  female  26.0      0      0   7.9250        S  Third   \n",
       "\n",
       "     who  adult_male deck  embark_town alive  alone  \n",
       "0    man        True  NaN  Southampton    no  False  \n",
       "1  woman       False    C    Cherbourg   yes  False  \n",
       "2  woman       False  NaN  Southampton   yes   True  "
      ]
     },
     "execution_count": 30,
     "metadata": {},
     "output_type": "execute_result"
    }
   ],
   "source": [
    "df = sns.load_dataset('titanic')\n",
    "df.head(3)"
   ]
  },
  {
   "cell_type": "code",
   "execution_count": 107,
   "metadata": {},
   "outputs": [
    {
     "data": {
      "text/html": [
       "<div>\n",
       "<style scoped>\n",
       "    .dataframe tbody tr th:only-of-type {\n",
       "        vertical-align: middle;\n",
       "    }\n",
       "\n",
       "    .dataframe tbody tr th {\n",
       "        vertical-align: top;\n",
       "    }\n",
       "\n",
       "    .dataframe thead th {\n",
       "        text-align: right;\n",
       "    }\n",
       "</style>\n",
       "<table border=\"1\" class=\"dataframe\">\n",
       "  <thead>\n",
       "    <tr style=\"text-align: right;\">\n",
       "      <th>sex</th>\n",
       "      <th>female</th>\n",
       "      <th>male</th>\n",
       "    </tr>\n",
       "    <tr>\n",
       "      <th>survived</th>\n",
       "      <th></th>\n",
       "      <th></th>\n",
       "    </tr>\n",
       "  </thead>\n",
       "  <tbody>\n",
       "    <tr>\n",
       "      <th>0</th>\n",
       "      <td>81</td>\n",
       "      <td>468</td>\n",
       "    </tr>\n",
       "    <tr>\n",
       "      <th>1</th>\n",
       "      <td>233</td>\n",
       "      <td>109</td>\n",
       "    </tr>\n",
       "  </tbody>\n",
       "</table>\n",
       "</div>"
      ],
      "text/plain": [
       "sex       female  male\n",
       "survived              \n",
       "0             81   468\n",
       "1            233   109"
      ]
     },
     "execution_count": 107,
     "metadata": {},
     "output_type": "execute_result"
    }
   ],
   "source": [
    "contingency_table = pd.crosstab(df['survived'],df['sex'])\n",
    "contingency_table\n"
   ]
  },
  {
   "cell_type": "markdown",
   "metadata": {},
   "source": [
    "## Hypothesis\n",
    "\n",
    "$$H_0: \\text{Sex and survival are independent}$$\n",
    "$$H_0: \\text{Sex and survival are not independent}$$\n",
    "\n",
    "## Test Statistic\n",
    "\n",
    "$$\\chi^{2} = \\sum_{i=1}^{R}\\sum_{i=1}^{C}\\frac{(O_{ij} - e_{ij})^2}{e_{ij}}$$\n",
    "\n",
    "where:\n",
    "\n",
    "$O_{ij}$ is the observed cell count in the $i^{th}$ row and $j^{th}$ column  \n",
    "  \n",
    "  \n",
    "$e_{ij}$ is the expected cell count in the $i^{th}$ row and $j^{th}$ column  \n",
    "  \n",
    "$$e_{ij} = \\frac{\\text{row i total * col j total}}{\\text{grand total}}$$\n",
    "\n",
    "\n",
    "$$col_1 = 314$$  \n",
    "\n",
    "$$col_2 = 577$$  \n",
    "\n",
    "$$row_1 = 549$$  \n",
    "\n",
    "$$row_2 = 342$$\n",
    "\n",
    "$$\\text{grand total} = \\text{If we sum across these we have 891 passengers}$$\n",
    "\n",
    "$$e_{1,1} = \\frac{549*314}{891} = 193.47$$  \n",
    "\n",
    "$$e_{1,2} = \\frac{549*577}{891} = 355.52$$  \n",
    "\n",
    "$$e_{2,1} = \\frac{342*314}{891} = 120.52$$  \n",
    "\n",
    "$$e_{2,2} = \\frac{342*577}{891} = 221.47$$  \n",
    "\n",
    "\n",
    "### Sample size assumption has been met\n",
    "1. All expected sample counts are greater than one and atleast 80% are greater than 5.\n",
    "\n",
    "\n",
    "$$\\chi^{2} = \\sum_{i=1}^{R}\\sum_{i=1}^{C}\\frac{(O_{ij} - e_{ij})^2}{e_{ij}}$$\n",
    "\n",
    "\n",
    "\n",
    "$$\\frac{(obs-exp)^2}{exp} = \\frac{(81-193.47)^2}{193.47} = 65.38$$\n",
    "\n",
    "$$\\frac{(obs-exp)^2}{exp} = \\frac{(468-355.52)^2}{355.52} = 35.60$$\n",
    "\n",
    "$$\\frac{(obs-exp)^2}{exp} = \\frac{(233-120.52)^2}{120.52} = 104.97$$\n",
    "\n",
    "$$\\frac{(obs-exp)^2}{exp} = \\frac{(109-221.47)^2}{221.47} = 57.11$$\n",
    "\n",
    "\n",
    "$$\\chi^{2} = 263.06$$\n",
    "\n",
    "\n",
    "## Degrees of Freedom for a 2x2 table\n",
    "\n",
    "$$df=(R−1)∗(C−1)=(2−1)∗(2−1)=1$$"
   ]
  },
  {
   "cell_type": "markdown",
   "metadata": {},
   "source": [
    "### Using Scipy\n"
   ]
  },
  {
   "cell_type": "code",
   "execution_count": 108,
   "metadata": {},
   "outputs": [
    {
     "data": {
      "text/plain": [
       "array([[ 81, 468],\n",
       "       [233, 109]])"
      ]
     },
     "execution_count": 108,
     "metadata": {},
     "output_type": "execute_result"
    }
   ],
   "source": [
    "f_obs = np.array([contingency_table.iloc[0][0:].values,\n",
    "                  contingency_table.iloc[1][0:].values])\n",
    "f_obs"
   ]
  },
  {
   "cell_type": "code",
   "execution_count": 109,
   "metadata": {},
   "outputs": [
    {
     "data": {
      "text/plain": [
       "(260.71702016732104, 1.1973570627755645e-58, 1)"
      ]
     },
     "execution_count": 109,
     "metadata": {},
     "output_type": "execute_result"
    }
   ],
   "source": [
    "from scipy import stats\n",
    "stats.chi2_contingency(f_obs)[0:3]"
   ]
  },
  {
   "cell_type": "markdown",
   "metadata": {},
   "source": [
    "## Conclusion\n",
    "\n",
    "The results were exactly the same as our calculations by hand. The $\\chi^{2}$= 260.7, p-value = ~0 and degrees of freedom = 1.\n",
    "\n",
    "Conclusions\n",
    "With a p-value < 0.05 , we can reject the null hypothesis. There is definitely some sort of relationship between 'sex' and the 'survival'. We don't know what this relationship is, but we do know that these two variables are not independent of each other."
   ]
  },
  {
   "cell_type": "code",
   "execution_count": null,
   "metadata": {},
   "outputs": [],
   "source": []
  }
 ],
 "metadata": {
  "kernelspec": {
   "display_name": "Python 3",
   "language": "python",
   "name": "python3"
  },
  "language_info": {
   "codemirror_mode": {
    "name": "ipython",
    "version": 3
   },
   "file_extension": ".py",
   "mimetype": "text/x-python",
   "name": "python",
   "nbconvert_exporter": "python",
   "pygments_lexer": "ipython3",
   "version": "3.7.6"
  }
 },
 "nbformat": 4,
 "nbformat_minor": 4
}
