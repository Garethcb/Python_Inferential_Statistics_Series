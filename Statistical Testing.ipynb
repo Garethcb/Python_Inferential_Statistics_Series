{
 "cells": [
  {
   "cell_type": "markdown",
   "metadata": {},
   "source": [
    "# T-Test (Student's T-Test)\n",
    "- A t-test is a type of inferential statistic used to determine if there is a significant difference between the means of two groups. In other words it lets you know if those differences (measured in means) could have happened by chance.  \n",
    "  \n",
    "  \n",
    "- Used for the purpose of hypothesis testing in statistics.\n"
   ]
  },
  {
   "cell_type": "markdown",
   "metadata": {},
   "source": [
    "## Three Types of T-Tests\n",
    "#### One Sample T-Test\n",
    "- A One-sample T-Test tests if the given sample of observations belongs to or could have been derived from a population with a specified mean i.e, tests the mean of a single group against a known mean.  \n",
    "\n",
    "\n",
    "- If the means are found to be statistically different, we can infer that the sample is unlikely to have been derived from the population.   \n",
    "\n",
    "  \n",
    "- For example: we want to test a battery manufacturer's claim that their Duracell AA batteries can power a device for 100 hours on average. We sample 25 Duracell AA batteries, measures their battery life and use the T-Test to determine if the manufacturer’s claim is true.\n",
    "\n",
    "#### Paired sample t-test\n",
    "compares the means of two measurements taken from the same individual, object, or related units. These \"paired\" measurements can represent things like: \n",
    "\n",
    "- A measurement taken at two different times (e.g., pre-test and post-test score with an intervention administered between the two time points)\n",
    "\n",
    "  \n",
    "- For example: we want to test the effectiveness of a companies training program. We measure the performance of a sample of employees before and after competing the program and analyse the differences using a **paried sample T-Test**  \n",
    "\n",
    "\n",
    "#### Independent Samples t-test \n",
    "- compares the means of two independent groups in order to determine whether there is statistical evidence that the associated population means are significantly different.   \n",
    "\n",
    "  \n",
    "- For example: Suppose we want to know if the average time to run a mile is different for athletes versus non-athletes. This involves testing whether the sample means for mile time among athletes and non-athletes in your sample are statistically different (and by extension, inferring whether the means for mile times in the population are significantly different between these two groups). You can use an Independent Samples t Test to compare the mean mile time for athletes and non-athletes."
   ]
  },
  {
   "cell_type": "markdown",
   "metadata": {},
   "source": [
    "## Parametric Tests\n",
    "\n",
    "All three tests Make assumptions about the parameters of the population distribution from which our sample is drawn (estimates unknown parameters).\n",
    "\n",
    "#### Assumptions \n",
    "Our test predominantly require four main assumptions to be met (list on exhaustive):\n",
    "- The dependent variable must be continuous (interval/ratio).\n",
    "- The observations are independent of one another.\n",
    "- The dependent variable should be approximately normally distributed.\n",
    "- The dependent variable should not contain any outliers.\n",
    "- Homoscedasticity (equal variance)"
   ]
  },
  {
   "cell_type": "markdown",
   "metadata": {},
   "source": [
    "# When do I use a specific test?\n",
    "\n",
    "**One Sample T-Test** only compares a single sample mean to a specified constant. \n",
    "- It can not compare sample means between two or more groups. \n",
    "\n",
    "The Paired Samples t Test can only compare the means for two (and only two) related (paired) units on a continuous outcome that is normally distributed. Therefore it is not appropriate for analysisng the following:\n",
    "- unpaired data\n",
    "- comparisons between more than two units/groups\n",
    "- a continuous outcome that is not normally distributed\n",
    "- an ordinal/ranked outcome.\n",
    "\n",
    "The Independent Samples T-Test can only compare the means for two (and only two) groups. \n",
    "- It cannot make comparisons among more than two groups. \n",
    "\n",
    "  \n",
    "  \n",
    "**Therefore, to compare unpaired means between two independent groups on a continuous outcome that is normally distributed, choose the Independent Samples t Test.**\n",
    "  \n",
    "  \n",
    "**To compare unpaired means between more than two groups on a continuous outcome that is normally distributed, choose ANOVA.**\n",
    "\n",
    "\n"
   ]
  },
  {
   "cell_type": "markdown",
   "metadata": {},
   "source": [
    "## One Sample T-Test\n",
    "\n",
    "### Hypothesis\n",
    "\n",
    "The null hypothesis usually assumes that there is no difference in the sample means and the hypothesized mean. The purpose of the T Test is to test if the null hypothesis can be rejected or not.\n",
    "\n",
    "$$H_0: \\mu = \\mu_0$$\n",
    "$$H_a: \\mu \\neq \\mu_0$$\n",
    "\n",
    "### Test Statistic\n",
    "\n",
    "$$t = \\frac{\\bar{x}-\\mu_0}{s_\\bar{x}}$$\n",
    "\n",
    "\n",
    "$$s_\\bar{x} = \\frac{s}{\\sqrt{n}}$$\n",
    "\n",
    "where: \n",
    "- $\\mu_0$ is the proposed constant for the population mean\n",
    "- $\\bar{x}$ is the sample mean \n",
    "- n is the sample size\n",
    "- s is the sample standard deviation\n",
    "- $s_\\bar{x}$ is the estimated standard error of the mean $\\frac{s}{\\sqrt{n}}$\n",
    "\n",
    "\n",
    "The calculated t value is then compared to the critical t value from the t distribution table with degrees of freedom df = n - 1 and chosen confidence level.  \n",
    "  \n",
    "If the calculated t value > critical t value, then we reject the null hypothesis."
   ]
  },
  {
   "cell_type": "markdown",
   "metadata": {},
   "source": [
    "## Example Excercise\n",
    "We have the statisitcs grades from 15 different University of Adelaide students studying data science. We know that the Historical score for statistics at the University of is $\\mu$ = 72.\n",
    "\n",
    "x = [59, 69, 88, 84, 90, 65, 67, 59, 88, 79, 75, 66, 78, 77, 81]\n",
    "\n",
    "Test if the statistics scores from these 15 data science students are significantly better than the historical score at a confidence level of 95%.\n",
    "\n",
    "\n",
    "#### Solution\n",
    "##### Hypothesis\n",
    "\n",
    "$$H_0: \\mu = 72$$\n",
    "$$H_a: \\mu >72$$\n",
    "\n",
    "##### Degrees of freedom:\n",
    "$$df = 14 $$\n",
    "\n",
    "##### Level of Significance: \n",
    "$$\\alpha = 5\\%$$\n",
    "\n",
    "##### Test Statistic: \n",
    "$$t = \\frac{\\bar{x}-\\mu_0}{s_\\bar{x}}$$\n",
    "\n",
    "\n",
    "$$s_\\bar{x} = \\frac{s}{\\sqrt{n}}$$\n",
    "\n",
    "\n",
    "##### Decision Rule:\n",
    "- Reject $H_0$ if t-calc > t_crit\n",
    "\n",
    "##### Calculate test statistic:\n",
    "\n",
    "1. Sample mean: \n",
    "\n",
    "$$\\bar{X} = \\frac{x_1+x_2+x_3+...+ x_n}{n}$$  \n",
    "  \n",
    "  \n",
    "$$\\bar{X} = 75$$\n",
    "\n",
    "\n",
    "2. Calculate sample standard deviation:\n",
    "\n",
    "$$\\bar{\\sigma} = \\frac{(x_1 - \\bar{x})^2 + (x_2 - \\bar{x})^2 + (x_3 - \\bar{x})^2+ ...+ (x_n - \\bar{x})^2}{n-1}$$  \n",
    "  \n",
    "$$\\bar{\\sigma} = 10.35788$$\n",
    "\n",
    "\n",
    "3. T Statistic formula:\n",
    "\n",
    "$$t = \\frac{75-70}{\\frac{10.357}{\\sqrt{15}}}$$  \n",
    "  \n",
    "$$t = 1.8695$$\n",
    "\n",
    "4. Find the T-Critical:\n",
    "\n",
    "For a one-tailed test with an $\\alpha = 0.05$ and a df of 14.\n",
    "\n",
    "$$Tcrit = 1.761$$ \n",
    "\n",
    "5. Does it fall in rejection region?\n",
    "\n",
    "Since the computed T Statistic is greater than the T-critical, it does fall in the rejection region. We have sufficient evidence to reject the null hypothesis\n",
    "\n",
    "### DECISION AND CONCLUSIONS\n",
    "Recall that our hypothesized population value was 70%, the approximate average statistics score of the Historical Adelaide University. Since p < 0.05, we reject the null hypothesis that the mean score of data science students at this college is equal to the hypothesized population mean of 70 and conclude that the mean score is significantly different than 70.\n"
   ]
  },
  {
   "cell_type": "markdown",
   "metadata": {},
   "source": [
    "# Python Implementation\n",
    "\n",
    "Implemented using ttest_1samp() function in the scipy package. \n",
    "- Notably, it returns a Two tailed test by default, and reports a signed T statistic. That means, the reported P-value will always be computed for a Two-tailed test. To calculate the correct P value, you need to divide the output P-value by 2."
   ]
  },
  {
   "cell_type": "code",
   "execution_count": 15,
   "metadata": {},
   "outputs": [
    {
     "name": "stdout",
     "output_type": "stream",
     "text": [
      "1.8695827200929909\n",
      "0.04130061984088333\n"
     ]
    }
   ],
   "source": [
    "from scipy.stats import ttest_1samp, ttest_rel\n",
    "x = [59, 69, 88, 84, 90, 65, 67, 59, 88, 79, 75, 66, 78, 77, 81]\n",
    "tscore, pvalue = ttest_1samp(x,70)\n",
    "print(tscore)\n",
    "print(pvalue/2)"
   ]
  },
  {
   "cell_type": "markdown",
   "metadata": {},
   "source": [
    "## Paired Sample T-Test\n",
    "\n",
    "### Hypothesis\n",
    "\n",
    "The null hypothesis usually assumes that the paired population means are equal. The purpose of the T Test is to test if the null hypothesis can be rejected or not.\n",
    "\n",
    "$$H_0: \\mu_1 - \\mu_2 = 0$$\n",
    "$$H_a: \\mu_1 - \\mu_2 \\neq 0$$\n",
    "\n",
    "### Test Statistic\n",
    "\n",
    "$$t = \\frac{\\bar{x}_{diff}-0}{s_\\bar{x}}$$\n",
    "\n",
    "\n",
    "$$s_\\bar{x} = \\frac{{s}_{diff}}{\\sqrt{n}}$$\n",
    "\n",
    "where: \n",
    "- $\\bar{x}_{diff}$ is the sample mean of the differences\n",
    "- n is the sample size\n",
    "- $s_{diff}$ is the sample standard deviation of the difference\n",
    "- $s_\\bar{x}$ is the estimated standard error of the mean $\\frac{s}{\\sqrt{n}}$\n",
    "\n",
    "\n",
    "The calculated t value is then compared to the critical t value from the t distribution table with degrees of freedom df = n - 1 and chosen confidence level.  \n",
    "  \n",
    "If the calculated t value > critical t value, then we reject the null hypothesis."
   ]
  },
  {
   "cell_type": "markdown",
   "metadata": {},
   "source": [
    "## Example Excercise\n",
    "We have the weights from 15 different gym members before and after placing them on a diet program that lasted 12 weeks. \n",
    "\n",
    "x = [59, 69, 88, 84, 90, 65, 67, 59, 88, 79, 75, 66, 78, 77, 81]  \n",
    "\n",
    "y = [61, 70, 80, 82, 85, 60, 65, 60, 79, 80, 75, 67, 76, 78, 79]\n",
    "\n",
    "Test if there is a significant average difference in weight loss at a confidence level of 95%.\n",
    "\n",
    "\n",
    "#### Solution\n",
    "##### Hypothesis\n",
    "\n",
    "$$H_0: \\mu_1 - \\mu_2 = 0$$\n",
    "$$H_a: \\mu_1 - \\mu_2 \\neq 0$$\n",
    "\n",
    "##### Degrees of freedom:\n",
    "$$df = 14 $$\n",
    "\n",
    "##### Level of Significance: \n",
    "$$\\alpha = 5\\%$$\n",
    "\n",
    "##### Test Statistic: \n",
    "$$t = \\frac{\\bar{x}_{diff}-0}{s_\\bar{x}}$$\n",
    "\n",
    "\n",
    "$$s_\\bar{x} = \\frac{{s}_{diff}}{\\sqrt{n}}$$\n",
    "\n",
    "\n",
    "\n",
    "##### Decision Rule:\n",
    "- Reject $H_0$ if t-calc > t_crit\n",
    "\n",
    "##### Calculate test statistic:\n",
    "\n",
    "1. Sample mean difference: \n",
    "\n",
    "$$\\bar{X} = \\frac{\\sum_{i=1}^{n}x_i-y_i}{n}$$  \n",
    "  \n",
    "  \n",
    "$$\\bar{X} = 1.867$$\n",
    "\n",
    "\n",
    "2. Calculate sample standard deviation:\n",
    "\n",
    "$$s_\\bar{x} = \\frac{{s}_{diff}}{\\sqrt{n}}$$\n",
    "  \n",
    "$$\\bar{\\sigma} = \\frac{3.46}{\\sqrt{15}}$$\n",
    "\n",
    "\n",
    "3. T Statistic formula:\n",
    "\n",
    "$$t = \\frac{1.867-0}{0.89}$$  \n",
    "  \n",
    "$$t = 2.088$$\n",
    "\n",
    "4. Find the T-Critical:\n",
    "\n",
    "For a one-tailed test with an $\\alpha = 0.05$ and a df of 14.\n",
    "\n",
    "$$Tcrit = 1.761$$ \n",
    "\n",
    "5. Does it fall in rejection region?\n",
    "\n",
    "Since the computed T Statistic is greater than the T-critical, it does fall in the rejection region. We have sufficient evidence to reject the null hypothesis\n",
    "\n",
    "### DECISION AND CONCLUSIONS\n",
    "This means we have sufficient evidence to say that the mean between the two groups is not equal."
   ]
  },
  {
   "cell_type": "markdown",
   "metadata": {},
   "source": [
    "# Python Implementation\n",
    "\n",
    "Implemented using ttest_rel() function in the scipy package.   \n",
    "  \n",
    "  \n",
    "- Notably, it returns a Two tailed test by default, and reports a signed T statistic. That means, the reported P-value will always be computed for a Two-tailed test. To calculate the correct P value, you need to divide the output P-value by 2."
   ]
  },
  {
   "cell_type": "code",
   "execution_count": 75,
   "metadata": {},
   "outputs": [
    {
     "name": "stdout",
     "output_type": "stream",
     "text": [
      "pvalue: 0.02774232684546874\n",
      "statistic: 2.088655100102937\n"
     ]
    }
   ],
   "source": [
    "from scipy.stats import ttest_rel\n",
    "import numpy as np\n",
    "\n",
    "x = np.array([59, 69, 88, 84, 90, 65, 67, 59, 88, 79, 75, 66, 78, 77, 81])\n",
    "y = np.array([61, 70, 80, 82, 85, 60, 65, 60, 79, 80, 75, 67, 76, 78, 79])\n",
    "\n",
    "result = ttest_rel(x,y)\n",
    "\n",
    "print(f'pvalue: {result.pvalue/2}')\n",
    "print(f'statistic: {result.statistic}')"
   ]
  },
  {
   "cell_type": "markdown",
   "metadata": {},
   "source": [
    "## By hand using numpy"
   ]
  },
  {
   "cell_type": "code",
   "execution_count": 73,
   "metadata": {},
   "outputs": [
    {
     "name": "stdout",
     "output_type": "stream",
     "text": [
      "t-statistic: 2.088655100102937\n"
     ]
    }
   ],
   "source": [
    "mean_diff = np.mean(x-y)\n",
    "std_sample = np.std(x-y,ddof =1)\n",
    "sx = std_sample/(np.sqrt(15))\n",
    "t = (mean_diff-0)/sx\n",
    "\n",
    "print(f't-statistic: {t}')"
   ]
  },
  {
   "cell_type": "markdown",
   "metadata": {},
   "source": [
    "## Independent Samples T-Test\n",
    "\n",
    "### Hypothesis\n",
    "\n",
    "The null hypothesis usually assumes that the paired population means are equal. The purpose of the T Test is to test if the null hypothesis can be rejected or not.\n",
    "\n",
    "$$H_0: \\mu_1 - \\mu_2 = 0$$\n",
    "$$H_a: \\mu_1 - \\mu_2 \\neq 0$$\n",
    "\n",
    "### Test Statistic\n",
    "\n",
    "There are actually two forms of the test statistic for this test, depending on whether or not equal variances are assumed.\n",
    "\n",
    "##### EQUAL VARIANCES ASSUMED\n",
    "When the two independent samples are assumed to be drawn from populations with identical population variances (i.e., $\\sigma^{2}_1$ = $\\sigma^{2}_2$) , the test statistic t is computed as:\n",
    "\n",
    "$$t = \\frac{\\bar{x}_{1}-\\bar{x}_{2}}{sp\\sqrt{\\frac{1}{n_1}+\\frac{1}{n_1}}}$$\n",
    "\n",
    "\n",
    "$$sp = \\sqrt{\\frac{(n_1-1)s^{2}_1+(n_2-1)s^{2}_2}{n_1+n_2-2}}$$\n",
    "\n",
    "where: \n",
    "- $\\bar{x}_1$ is the mean of the first sample\n",
    "- $\\bar{x}_2$ is the mean of the second sample\n",
    "- n is the sample size\n",
    "- sp is the pooled standard deviation\n",
    "\n",
    "\n",
    "The calculated t value is then compared to the critical t value from the t distribution table with degrees of freedom df = n1 + n2 - 2 and chosen confidence level. If the calculated t value is greater than the critical t value, then we reject the null hypothesis.\n",
    "\n",
    "Note that this form of the independent samples t test statistic assumes equal variances.\n",
    "\n",
    "Because we assume equal population variances, it is OK to \"pool\" the sample variances (sp). However, if this assumption is violated, the pooled variance estimate may not be accurate, which would affect the accuracy of our test statistic (and hence, the p-value).\n",
    "\n",
    "\n",
    "###### EQUAL VARIANCES NOT ASSUMED\n",
    "When the two independent samples are assumed to be drawn from populations with unequal variances $\\sigma^{2}_1 \\neq \\sigma^{2}_2$, the test statistic t is computed as:\n",
    "\n",
    "$$t = \\frac{\\bar{x}_{1}-\\bar{x}_{2}}{\\sqrt{\\frac{s^{2}_1}{n_1}+\\frac{s^{2}_2}{n_2}}}$$\n",
    "\n",
    "\n",
    "$$sp = \\sqrt{\\frac{(n_1-1)s^{2}_1+(n_2-1)s^{2}_2}{n_1+n_2-2}}$$\n",
    "\n",
    "The calculated t value is then compared to the critical t value from the t distribution table with degrees of freedom"
   ]
  },
  {
   "cell_type": "markdown",
   "metadata": {},
   "source": [
    "## Levene’s Test for Equality of Variances\n",
    "\n",
    "the Independent Samples t Test requires the assumption of homogeneity of variance -- i.e., both groups have the same variance.\n",
    "\n",
    "The hypotheses for Levene’s test are:\n",
    "\n",
    "$$H_0: \\sigma^{2}_1 - \\sigma^{2}_2 = 0$$\n",
    "$$H_a: \\sigma^{2}_1 - \\sigma^{2}_2  \\neq 0$$\n",
    "\n",
    "\n",
    "When equal variances are assumed, the calculation uses pooled variances; when equal variances cannot be assumed, the calculation utilizes un-pooled variances and a correction to the degrees of freedom.\n",
    "\n",
    "### Example\n",
    "Suppose we want to know if the average time to run a mile is different for athletes versus non-athletes. This involves testing whether the sample means for mile time among athletes and non-athletes in your sample are statistically different (and by extension, inferring whether the means for mile times in the population are significantly different between these two groups). You can use an Independent Samples t Test to compare the mean mile time for athletes and non-athletes.\n",
    "\n",
    "- We will perform Levene’s Test using the levene() function from the SciPy library\n",
    "\n",
    "\n",
    "There are actually three different variations of Levene’s test you can use. The recommended usages are as follows:\n",
    "\n",
    "- ‘median’: recommended for skewed distributions.\n",
    "- ‘mean’: recommended for symmetric, moderate-tailed distributions.\n",
    "- ‘trimmed’: recommended for heavy-tailed distributions."
   ]
  },
  {
   "cell_type": "code",
   "execution_count": 83,
   "metadata": {},
   "outputs": [
    {
     "name": "stdout",
     "output_type": "stream",
     "text": [
      "LeveneResult(statistic=0.057507987220447386, pvalue=0.8131885671057599)\n",
      "LeveneResult(statistic=0.330237825594563, pvalue=0.572632134745112)\n"
     ]
    }
   ],
   "source": [
    "from scipy.stats import levene\n",
    "group1 = np.array([7, 14, 14, 13, 12, 9, 6, 14, 12, 8])\n",
    "group2 = np.array([15, 17, 13, 15, 15, 13, 9, 12, 10, 8])\n",
    "\n",
    "print(levene(group1,group2, center = 'median'))\n",
    "print(levene(group1,group2, center = 'mean'))\n",
    "\n",
    "# Insufficient evidence to reject null hypothesis that variance are not different.\n",
    "# Therefore, we will use pooled variance and assume equal variance"
   ]
  },
  {
   "cell_type": "markdown",
   "metadata": {},
   "source": [
    "## Example Excercise\n",
    "Suppose we want to know if the average time to run a mile is different for athletes versus non-athletes.\n",
    "\n",
    "athletes = np.array([7, 14, 14, 13, 12, 9, 6, 14, 12, 8]) \n",
    "\n",
    "non-athletes = np.array([15, 17, 13, 15, 15, 13, 9, 12, 10, 8])\n",
    "\n",
    "Test if there is a significant average difference in times between athletes and non-athletes at a confidence level of 95%.\n",
    "\n",
    "\n",
    "#### Solution\n",
    "##### Hypothesis\n",
    "\n",
    "$$H_0: \\mu_1 - \\mu_2 = 0$$\n",
    "$$H_a: \\mu_1 - \\mu_2 \\neq 0$$\n",
    "\n",
    "\n",
    "##### Level of Significance: \n",
    "$$\\alpha = 5\\%$$\n",
    "\n",
    "##### EQUAL VARIANCES ASSUMED (Levene's Test above confirms)\n",
    "When the two independent samples are assumed to be drawn from populations with identical population variances (i.e., $\\sigma^{2}_1$ = $\\sigma^{2}_2$) , the test statistic t is computed as:\n",
    "\n",
    "$$t = \\frac{\\bar{x}_{1}-\\bar{x}_{2}}{sp\\sqrt{\\frac{1}{n_1}+\\frac{1}{n_1}}}$$\n",
    "\n",
    "\n",
    "$$sp = \\sqrt{\\frac{(n_1-1)s^{2}_1+(n_2-1)s^{2}_2}{n_1+n_2-2}}$$\n",
    "\n",
    "\n",
    "##### Decision Rule:\n",
    "- Reject $H_0$ if t-calc > t_crit\n",
    "\n",
    "##### Calculate test statistic:\n",
    "1. mean group1 & group2:\n",
    "$$\\bar{X}_1 = 10.9$$\n",
    "$$\\bar{X}_2 = 12.7$$\n",
    "\n",
    "\n",
    "2. Pooled standard deviation:\n",
    "\n",
    "$$sp = \\sqrt{\\frac{(10-1)3.107+(10-1)2.945}{10+10-2}}$$  \n",
    "  \n",
    "  \n",
    "$$sp = 1.734$$\n",
    "\n",
    "3. T Statistic formula:\n",
    "\n",
    "$$t = \\frac{10.9-12.7}{1.734\\sqrt{\\frac{1}{n_1}+\\frac{1}{n_2}}}$$  \n",
    "  \n",
    "$$t = -2.31$$\n",
    "\n",
    "4. Find the p-value:\n",
    "\n",
    "For a one-tailed test with an $\\alpha = 0.05$ and a df of 9.\n",
    "\n",
    "Because the p-value of our test (0.10) is greater than alpha = 0.05, we fail to reject the null hypothesis of the test. We do not have sufficient evidence to say that the mean mile times between the two populations is different.\n",
    "\n",
    "### DECISION AND CONCLUSIONS\n",
    "This means we do not have sufficient evidence to say that the mean between the two groups is not equal."
   ]
  },
  {
   "cell_type": "markdown",
   "metadata": {},
   "source": [
    "# By Hand"
   ]
  },
  {
   "cell_type": "code",
   "execution_count": 117,
   "metadata": {},
   "outputs": [
    {
     "data": {
      "text/plain": [
       "-1.3293881025767929"
      ]
     },
     "execution_count": 117,
     "metadata": {},
     "output_type": "execute_result"
    }
   ],
   "source": [
    "s1 = np.std(group1,ddof=1)**2\n",
    "s2 = np.std(group2,ddof=1)**2\n",
    "\n",
    "n1 = s1*9\n",
    "n2 = s2*9\n",
    "numerator = n1+n2\n",
    "sp = np.sqrt((numerator/18))\n",
    "\n",
    "t_denominator = sp*np.sqrt((1/10)+(1/10))\n",
    "t_numerator = np.mean(group1)-np.mean(group2)\n",
    "t_numerator/t_denominator"
   ]
  },
  {
   "cell_type": "markdown",
   "metadata": {},
   "source": [
    "# Python Implementation"
   ]
  },
  {
   "cell_type": "code",
   "execution_count": 118,
   "metadata": {},
   "outputs": [
    {
     "name": "stdout",
     "output_type": "stream",
     "text": [
      "pvalue: 0.10016196818553946\n",
      "statistic: -1.3293881025767929\n"
     ]
    }
   ],
   "source": [
    "from scipy.stats import ttest_ind\n",
    "\n",
    "group1 = np.array([7, 14, 14, 13, 12, 9, 6, 14, 12, 8])\n",
    "group2 = np.array([15, 17, 13, 15, 15, 13, 9, 12, 10, 8])\n",
    "\n",
    "result = ttest_ind(group1,group2,equal_var=True)\n",
    "print(f'pvalue: {result.pvalue/2}')\n",
    "print(f'statistic: {result.statistic}')"
   ]
  },
  {
   "cell_type": "code",
   "execution_count": null,
   "metadata": {},
   "outputs": [],
   "source": []
  },
  {
   "cell_type": "code",
   "execution_count": null,
   "metadata": {},
   "outputs": [],
   "source": []
  }
 ],
 "metadata": {
  "kernelspec": {
   "display_name": "Python 3",
   "language": "python",
   "name": "python3"
  },
  "language_info": {
   "codemirror_mode": {
    "name": "ipython",
    "version": 3
   },
   "file_extension": ".py",
   "mimetype": "text/x-python",
   "name": "python",
   "nbconvert_exporter": "python",
   "pygments_lexer": "ipython3",
   "version": "3.7.6"
  }
 },
 "nbformat": 4,
 "nbformat_minor": 4
}
